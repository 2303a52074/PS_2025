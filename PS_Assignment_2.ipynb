{
  "nbformat": 4,
  "nbformat_minor": 0,
  "metadata": {
    "colab": {
      "provenance": [],
      "authorship_tag": "ABX9TyMlfIu7VQ2HBoHFKXT9PeGS",
      "include_colab_link": true
    },
    "kernelspec": {
      "name": "python3",
      "display_name": "Python 3"
    },
    "language_info": {
      "name": "python"
    }
  },
  "cells": [
    {
      "cell_type": "markdown",
      "metadata": {
        "id": "view-in-github",
        "colab_type": "text"
      },
      "source": [
        "<a href=\"https://colab.research.google.com/github/2303a52074/PS_2025/blob/main/PS_Assignment_2.ipynb\" target=\"_parent\"><img src=\"https://colab.research.google.com/assets/colab-badge.svg\" alt=\"Open In Colab\"/></a>"
      ]
    },
    {
      "cell_type": "code",
      "execution_count": 1,
      "metadata": {
        "colab": {
          "base_uri": "https://localhost:8080/"
        },
        "id": "dhJ3XJG3s14Y",
        "outputId": "3f8573c8-e04c-40cf-ccd9-85b01d37e385"
      },
      "outputs": [
        {
          "output_type": "stream",
          "name": "stdout",
          "text": [
            "mean: 13.46\n",
            "mean: 33.11\n",
            "variance: 34.36\n"
          ]
        }
      ],
      "source": [
        "age = [10,12,15,11,13,21]\n",
        "freq = [1,4,7,9,4,3]\n",
        "fixi = sum(age[i]*freq[i] for i in range(len(age)))\n",
        "fi = sum(freq)\n",
        "x = fixi/fi\n",
        "print(f\"mean: {x:.2f}\")\n",
        "\n",
        "class_interval = [(0,10), (10,20), (20,30), (30,40), (40,50), (50,60)]\n",
        "freq = [1, 8, 7, 8, 7, 6]\n",
        "midpoints = [(start + end)/2 for start, end in class_interval]\n",
        "fixi = sum(midpoints[i]*freq[i] for i in range(len(midpoints)))\n",
        "fi = sum(freq)\n",
        "x = fixi/fi\n",
        "print(f\"mean: {x:.2f}\")\n",
        "\n",
        "data = [13,22,25,25,14,23,31,16]\n",
        "n = len(data)\n",
        "mean = sum(data)/n\n",
        "variance = sum((x - mean)**2 for x in data)/n\n",
        "print(f\"variance: {variance:.2f}\")"
      ]
    }
  ]
}