{
  "nbformat": 4,
  "nbformat_minor": 0,
  "metadata": {
    "colab": {
      "provenance": [],
      "authorship_tag": "ABX9TyMlkNO5jSpIKsXLhbu65oxs",
      "include_colab_link": true
    },
    "kernelspec": {
      "name": "python3",
      "display_name": "Python 3"
    },
    "language_info": {
      "name": "python"
    }
  },
  "cells": [
    {
      "cell_type": "markdown",
      "metadata": {
        "id": "view-in-github",
        "colab_type": "text"
      },
      "source": [
        "<a href=\"https://colab.research.google.com/github/2303a52074/PS_2025/blob/main/PS_ASSIGNMENT_9.ipynb\" target=\"_parent\"><img src=\"https://colab.research.google.com/assets/colab-badge.svg\" alt=\"Open In Colab\"/></a>"
      ]
    },
    {
      "cell_type": "code",
      "execution_count": 2,
      "metadata": {
        "colab": {
          "base_uri": "https://localhost:8080/"
        },
        "id": "wbgyzAY-1AsX",
        "outputId": "50fac98e-9e02-430a-92d1-69026d42f4ff"
      },
      "outputs": [
        {
          "output_type": "stream",
          "name": "stdout",
          "text": [
            "Water Intake T-test:\n",
            "T-statistic: 13.5474\n",
            "P-value: 0.0000000003\n",
            "\n",
            "Exercise Hours T-test:\n",
            "T-statistic: 8.7692\n",
            "P-value: 0.0000001386\n",
            "\n",
            "Reading Hours T-test:\n",
            "T-statistic: 6.0956\n",
            "P-value: 0.0000107060\n",
            "\n"
          ]
        }
      ],
      "source": [
        "import scipy.stats as stats\n",
        "group_A_water = [2.8, 3.1, 3.0, 2.5, 3.2, 3.0, 3.3, 2.7, 2.9, 3.0]\n",
        "group_B_water = [1.5, 1.7, 1.6, 1.9, 2.0, 1.8, 1.7, 1.6, 1.8, 1.5]\n",
        "group_A_exercise = [7, 8, 6, 9, 10, 8, 7, 6, 8, 9]\n",
        "group_B_exercise = [3, 4, 2, 3, 5, 4, 3, 2, 4, 3]\n",
        "group_X_reading = [4, 5, 6, 3, 5, 6, 4, 5, 7, 6]\n",
        "group_Y_reading = [1, 2, 3, 2, 1, 4, 2, 1, 3, 2]\n",
        "def perform_t_test(group1, group2, test_name):\n",
        "    t_stat, p_value = stats.ttest_ind(group1, group2, equal_var=False)\n",
        "    print(f\"{test_name} T-test:\\nT-statistic: {t_stat:.4f}\\nP-value: {p_value:.10f}\\n\")\n",
        "perform_t_test(group_A_water, group_B_water, \"Water Intake\")\n",
        "perform_t_test(group_A_exercise, group_B_exercise, \"Exercise Hours\")\n",
        "perform_t_test(group_X_reading, group_Y_reading, \"Reading Hours\")\n"
      ]
    }
  ]
}